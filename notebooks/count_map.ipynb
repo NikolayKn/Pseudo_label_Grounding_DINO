{
 "cells": [
  {
   "cell_type": "code",
   "execution_count": 2,
   "metadata": {},
   "outputs": [
    {
     "name": "stdout",
     "output_type": "stream",
     "text": [
      "/home/nikolay/Documents/Projects/Diploma/My repos/Pseudo_label_Grounding_DINO\n"
     ]
    },
    {
     "name": "stderr",
     "output_type": "stream",
     "text": [
      "/home/nikolay/Documents/Projects/Diploma/My repos/Pseudo_label_Grounding_DINO/.venv/lib/python3.10/site-packages/IPython/core/magics/osm.py:417: UserWarning: This is now an optional IPython functionality, setting dhist requires you to install the `pickleshare` library.\n",
      "  self.shell.db['dhist'] = compress_dhist(dhist)[-100:]\n"
     ]
    }
   ],
   "source": [
    "%cd .."
   ]
  },
  {
   "cell_type": "code",
   "execution_count": 3,
   "metadata": {},
   "outputs": [],
   "source": [
    "import os\n",
    "import glob\n",
    "import pandas as pd\n",
    "from utils import AnnotationDF\n",
    "import cv2\n",
    "import matplotlib.pyplot as plt\n",
    "import tqdm\n",
    "import numpy as np\n",
    "import torch\n",
    "from metrics import COCO_annotation_loader, count_metrics"
   ]
  },
  {
   "cell_type": "code",
   "execution_count": 4,
   "metadata": {},
   "outputs": [],
   "source": [
    "CLASSES = ['aeroplane', 'bicycle', 'bird', 'boat', 'bottle', \n",
    "    'bus', 'car', 'cat', 'chair', 'cow', 'diningtable', 'dog', \n",
    "    'horse', 'motorbike', 'person', 'pottedplant', 'sheep', 'sofa', 'train', 'tvmonitor']"
   ]
  },
  {
   "cell_type": "code",
   "execution_count": 5,
   "metadata": {},
   "outputs": [],
   "source": [
    "def get_IoU(bbox1, bbox2):\n",
    "        intersection_h_max = min(bbox1[1] + (bbox1[3]/2), bbox2[1] + (bbox2[3]/2))\n",
    "        intersection_h_min = max(bbox1[1] - (bbox1[3]/2), bbox2[1] - (bbox2[3]/2))\n",
    "        intersection_w_max = min(bbox1[0] + (bbox1[2]/2), bbox2[0] + (bbox2[2]/2))\n",
    "        intersection_w_min = max(bbox1[0] - (bbox1[2]/2), bbox2[0] - (bbox2[2]/2))   \n",
    "        intersection_area = (intersection_h_max - intersection_h_min) * (intersection_w_max - intersection_w_min)\n",
    "        union = bbox1[2]*bbox1[3] + bbox2[2]*bbox2[3] - intersection_area\n",
    "        return round(intersection_area / union, 3)"
   ]
  },
  {
   "cell_type": "code",
   "execution_count": 6,
   "metadata": {},
   "outputs": [],
   "source": [
    "class pandas_annotation_loader():\n",
    "    def __init__(self, ann_file, filters=None):\n",
    "        data = AnnotationDF()\n",
    "        data.load_annotation(ann_file)\n",
    "        self.df = data.df.copy()\n",
    "        self.filenames = sorted(self.df.image_name.unique())\n",
    "        self.filters = filters\n",
    "\n",
    "\n",
    "    def __len__(self):\n",
    "        return len(self.df.shape[0])\n",
    "    \n",
    "    \n",
    "\n",
    "    def __get_from_dataframe(self, filename):\n",
    "        data = self.df[self.df.image_name == filename].sort_values(by=['probability'], ascending=False)\n",
    "\n",
    "        # Filter\n",
    "        if self.filters is not None:\n",
    "            for filter in self.filters:\n",
    "                data = data[filter[0](data, **filter[1])]\n",
    "\n",
    "        # classes\n",
    "        class_indexes = data.loc[:,['class_index']].to_numpy()\n",
    "        # confidence\n",
    "        confidences = data.loc[:,['probability']].to_numpy()\n",
    "        # BBOX in format xywh\n",
    "        bbox_string2bbox = lambda line: np.array([float(x) for x in line[0].split(' ')])\n",
    "        bboxes = np.array(list(map(bbox_string2bbox, data.loc[:,['bbox']].to_numpy())))\n",
    "        if bboxes.shape[0] > 0:\n",
    "            return np.concatenate((bboxes, confidences, class_indexes), axis=1)\n",
    "        else: return np.array([])\n",
    "\n",
    "    # Возвращает list[Detection] по индексу\n",
    "    def __getitem__(self, idx):\n",
    "        filename = self.filenames[idx]\n",
    "        return filename, self.__get_from_dataframe(filename)\n",
    "    \n",
    "    # Возвращает list[Detection] по индексу\n",
    "    def get_annotation_by_name(self, filename):\n",
    "        if filename not in self.filenames:\n",
    "            print('not in the list')\n",
    "            return None\n",
    "        else:\n",
    "            return self.__get_from_dataframe(filename) "
   ]
  },
  {
   "cell_type": "code",
   "execution_count": 8,
   "metadata": {},
   "outputs": [],
   "source": [
    "def nms_filter(detections, iou_threshold):\n",
    "    # BBOX in format xywh\n",
    "    bbox_string2bbox = lambda line: np.array([float(x) for x in line.split(' ')])\n",
    "    keep_list = []\n",
    "    mask = []\n",
    "    for _, detection in detections.iterrows():\n",
    "        keep = True\n",
    "        for sample in keep_list:\n",
    "            if get_IoU(bbox_string2bbox(sample.bbox), \n",
    "                       bbox_string2bbox(detection.bbox) ) > iou_threshold:\n",
    "                keep = False\n",
    "                break\n",
    "        keep_list.append(detection)\n",
    "        mask.append(keep)\n",
    "    return np.array(mask)\n",
    "\n",
    "def nms_filter_one_class(detections, iou_threshold):\n",
    "    # BBOX in format xywh\n",
    "    bbox_string2bbox = lambda line: np.array([float(x) for x in line.split(' ')])\n",
    "    keep_list = []\n",
    "    mask = []\n",
    "    for _, detection in detections.iterrows():\n",
    "        keep = True\n",
    "        for sample in keep_list:\n",
    "            if get_IoU(bbox_string2bbox(sample.bbox), \n",
    "                       bbox_string2bbox(detection.bbox) ) > iou_threshold and (sample.class_index == detection.class_index):\n",
    "                keep = False\n",
    "                break\n",
    "        keep_list.append(detection)\n",
    "        mask.append(keep)\n",
    "    return np.array(mask)\n",
    "\n",
    "def dumb_probability_filter(detections, probability_threshold):\n",
    "    mask = []\n",
    "    for _, detection in detections.iterrows():\n",
    "        keep = True\n",
    "        if detection.probability <= probability_threshold:\n",
    "            keep = False\n",
    "        mask.append(keep)\n",
    "    return np.array(mask)\n",
    "\n",
    "\n",
    "nms_filter_args = {'iou_threshold':0.7}\n",
    "# nms_filter_one_class_args = {'iou_threshold':0.5}\n",
    "dumb_probability_filter_args = {'probability_threshold':0.4}\n",
    "\n",
    "filters = [\n",
    "    (nms_filter, nms_filter_args),\n",
    "    # (nms_filter_one_class, nms_filter_one_class_args),\n",
    "    (dumb_probability_filter, dumb_probability_filter_args)\n",
    "]"
   ]
  },
  {
   "cell_type": "code",
   "execution_count": 10,
   "metadata": {},
   "outputs": [
    {
     "name": "stderr",
     "output_type": "stream",
     "text": [
      "100%|██████████| 2510/2510 [01:37<00:00, 25.77it/s]\n"
     ]
    }
   ],
   "source": [
    "test_COCO = 'datasets/VOC/labels/test'\n",
    "test_pred = 'data/VOC/test'\n",
    "\n",
    "val_COCO = 'datasets/VOC/labels/val'\n",
    "val_pred = 'data/VOC/val'\n",
    "\n",
    "train_COCO = 'datasets/VOC/labels/train'\n",
    "train_pred = 'data/VOC/train'\n",
    "\n",
    "\n",
    "\n",
    "ann_loader = COCO_annotation_loader(val_COCO)\n",
    "det_loader = pandas_annotation_loader(val_pred, filters)\n",
    "\n",
    "ap, ap_class = count_metrics(det_loader, ann_loader)"
   ]
  },
  {
   "cell_type": "code",
   "execution_count": 49,
   "metadata": {},
   "outputs": [],
   "source": [
    "# data = AnnotationDF(CLASSES)\n",
    "# data.load_annotation('data/VOC2007/train2007/df_annotations')"
   ]
  },
  {
   "cell_type": "code",
   "execution_count": 11,
   "metadata": {},
   "outputs": [],
   "source": [
    "# data.df[data.df.image_name == '000026']"
   ]
  },
  {
   "cell_type": "code",
   "execution_count": 9,
   "metadata": {},
   "outputs": [
    {
     "name": "stdout",
     "output_type": "stream",
     "text": [
      "0.7717903974207231 0.6601822521523052\n"
     ]
    }
   ],
   "source": [
    "map50, map50_95 = ap[:, 0].mean(), ap.mean(1).mean()\n",
    "print(map50, map50_95)"
   ]
  },
  {
   "cell_type": "code",
   "execution_count": 12,
   "metadata": {},
   "outputs": [
    {
     "name": "stdout",
     "output_type": "stream",
     "text": [
      "0.7814329608949306 0.6688116542898079\n"
     ]
    }
   ],
   "source": [
    "map50, map50_95 = ap[:, 0].mean(), ap.mean(1).mean()\n",
    "print(map50, map50_95)"
   ]
  },
  {
   "cell_type": "code",
   "execution_count": 17,
   "metadata": {},
   "outputs": [
    {
     "name": "stdout",
     "output_type": "stream",
     "text": [
      "aeroplane : 0.3262481195756159\n",
      "bicycle : 0.3149881272232537\n",
      "bird : 0.3039502269707657\n",
      "boat : 0.1831356527351193\n",
      "bottle : 0.1322229864396249\n",
      "bus : 0.3945570686103146\n",
      "car : 0.2610466580059484\n",
      "cat : 0.4442934885832623\n",
      "chair : 0.12511102560322193\n",
      "cow : 0.2621817861832509\n",
      "diningtable : 0.1989741376497271\n",
      "dog : 0.39797197249100624\n",
      "horse : 0.42526975901531877\n",
      "motorbike : 0.28461678734930995\n",
      "person : 0.2432586988481904\n",
      "pottedplant : 0.058938631787894685\n",
      "sheep : 0.21142443885863849\n",
      "sofa : 0.25700754425834577\n",
      "train : 0.32497425564572635\n",
      "tvmonitor : 0.1616634977993748\n"
     ]
    }
   ],
   "source": [
    "for name, ap_cl in zip (CLASSES, ap[:,-1]):\n",
    "    print(f'{name} : {ap_cl}')"
   ]
  },
  {
   "cell_type": "code",
   "execution_count": 15,
   "metadata": {},
   "outputs": [
    {
     "name": "stdout",
     "output_type": "stream",
     "text": [
      "aeroplane : 0.21254799343939446\n",
      "bicycle : 0.19671853887388674\n",
      "bird : 0.19527639964760754\n",
      "boat : 0.087011846423598\n",
      "bottle : 0.09471990778151669\n",
      "bus : 0.28263913187403433\n",
      "car : 0.17212190791643567\n",
      "cat : 0.2794418293701749\n",
      "chair : 0.06071717194393426\n",
      "cow : 0.15184847838808918\n",
      "diningtable : 0.16099513885638356\n",
      "dog : 0.26943889903029705\n",
      "horse : 0.26480642772761154\n",
      "motorbike : 0.14732393725706605\n",
      "person : 0.152191872892028\n",
      "pottedplant : 0.025829802010285303\n",
      "sheep : 0.1073687360217109\n",
      "sofa : 0.20218703670607296\n",
      "train : 0.19873540567009604\n",
      "tvmonitor : 0.09773978572894092\n"
     ]
    }
   ],
   "source": [
    "for name, ap_cl in zip (CLASSES, ap[:,-1]):\n",
    "    print(f'{name} : {ap_cl}')"
   ]
  }
 ],
 "metadata": {
  "kernelspec": {
   "display_name": ".venv",
   "language": "python",
   "name": "python3"
  },
  "language_info": {
   "codemirror_mode": {
    "name": "ipython",
    "version": 3
   },
   "file_extension": ".py",
   "mimetype": "text/x-python",
   "name": "python",
   "nbconvert_exporter": "python",
   "pygments_lexer": "ipython3",
   "version": "3.10.6"
  },
  "orig_nbformat": 4
 },
 "nbformat": 4,
 "nbformat_minor": 2
}
