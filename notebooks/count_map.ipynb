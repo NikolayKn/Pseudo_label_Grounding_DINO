{
 "cells": [
  {
   "cell_type": "code",
   "execution_count": 1,
   "metadata": {},
   "outputs": [
    {
     "name": "stdout",
     "output_type": "stream",
     "text": [
      "/home/nikolay/Documents/Projects/Diploma/My repos/Pseudo_label_Drounding_DINO\n"
     ]
    },
    {
     "name": "stderr",
     "output_type": "stream",
     "text": [
      "/home/nikolay/Documents/Projects/Diploma/My repos/Pseudo_label_Drounding_DINO/.venv/lib/python3.10/site-packages/IPython/core/magics/osm.py:417: UserWarning: This is now an optional IPython functionality, setting dhist requires you to install the `pickleshare` library.\n",
      "  self.shell.db['dhist'] = compress_dhist(dhist)[-100:]\n"
     ]
    }
   ],
   "source": [
    "%cd .."
   ]
  },
  {
   "cell_type": "code",
   "execution_count": 2,
   "metadata": {},
   "outputs": [],
   "source": [
    "import os\n",
    "import glob\n",
    "import pandas as pd\n",
    "from utils import AnnotationDF\n",
    "import cv2\n",
    "import matplotlib.pyplot as plt\n",
    "import tqdm\n",
    "import numpy as np\n",
    "import torch\n",
    "from metrics import COCO_annotation_loader, count_metrics"
   ]
  },
  {
   "cell_type": "code",
   "execution_count": 47,
   "metadata": {},
   "outputs": [],
   "source": [
    "CLASSES = ['aeroplane', 'bicycle', 'bird', 'boat', 'bottle', \n",
    "    'bus', 'car', 'cat', 'chair', 'cow', 'diningtable', 'dog', \n",
    "    'horse', 'motorbike', 'person', 'pottedplant', 'sheep', 'sofa', 'train', 'tvmonitor']"
   ]
  },
  {
   "cell_type": "code",
   "execution_count": 4,
   "metadata": {},
   "outputs": [],
   "source": [
    "def get_IoU(bbox1, bbox2):\n",
    "        intersection_h_max = min(bbox1[1] + (bbox1[3]/2), bbox2[1] + (bbox2[3]/2))\n",
    "        intersection_h_min = max(bbox1[1] - (bbox1[3]/2), bbox2[1] - (bbox2[3]/2))\n",
    "        intersection_w_max = min(bbox1[0] + (bbox1[2]/2), bbox2[0] + (bbox2[2]/2))\n",
    "        intersection_w_min = max(bbox1[0] - (bbox1[2]/2), bbox2[0] - (bbox2[2]/2))   \n",
    "        intersection_area = (intersection_h_max - intersection_h_min) * (intersection_w_max - intersection_w_min)\n",
    "        union = bbox1[2]*bbox1[3] + bbox2[2]*bbox2[3] - intersection_area\n",
    "        return round(intersection_area / union, 3)"
   ]
  },
  {
   "cell_type": "code",
   "execution_count": 26,
   "metadata": {},
   "outputs": [],
   "source": [
    "class pandas_annotation_loader():\n",
    "    def __init__(self, ann_file, filters=None):\n",
    "        data = AnnotationDF()\n",
    "        data.load_annotation(ann_file)\n",
    "        self.df = data.df.copy()\n",
    "        self.filenames = sorted(self.df.image_name.unique())\n",
    "        self.filters = filters\n",
    "\n",
    "\n",
    "    def __len__(self):\n",
    "        return len(self.df.shape[0])\n",
    "    \n",
    "    \n",
    "\n",
    "    def __get_from_dataframe(self, filename):\n",
    "        data = self.df[self.df.image_name == filename].sort_values(by=['probability'], ascending=False)\n",
    "\n",
    "        # Filter\n",
    "        if self.filters is not None:\n",
    "            for filter in self.filters:\n",
    "                data = data[filter[0](data, **filter[1])]\n",
    "\n",
    "        # classes\n",
    "        class_indexes = data.loc[:,['class_index']].to_numpy()\n",
    "        # confidence\n",
    "        confidences = data.loc[:,['probability']].to_numpy()\n",
    "        # BBOX in format xywh\n",
    "        bbox_string2bbox = lambda line: np.array([float(x) for x in line[0].split(' ')])\n",
    "        bboxes = np.array(list(map(bbox_string2bbox, data.loc[:,['bbox']].to_numpy())))\n",
    "        if bboxes.shape[0] > 0:\n",
    "            return np.concatenate((bboxes, confidences, class_indexes), axis=1)\n",
    "        else: return np.array([])\n",
    "\n",
    "    # Возвращает list[Detection] по индексу\n",
    "    def __getitem__(self, idx):\n",
    "        filename = self.filenames[idx]\n",
    "        return filename, self.__get_from_dataframe(filename)\n",
    "    \n",
    "    # Возвращает list[Detection] по индексу\n",
    "    def get_annotation_by_name(self, filename):\n",
    "        if filename not in self.filenames:\n",
    "            print('not in the list')\n",
    "            return None\n",
    "        else:\n",
    "            return self.__get_from_dataframe(filename) "
   ]
  },
  {
   "cell_type": "code",
   "execution_count": 32,
   "metadata": {},
   "outputs": [],
   "source": [
    "def nms_filter(detections, iou_threshold):\n",
    "    # BBOX in format xywh\n",
    "    bbox_string2bbox = lambda line: np.array([float(x) for x in line.split(' ')])\n",
    "    keep_list = []\n",
    "    mask = []\n",
    "    for _, detection in detections.iterrows():\n",
    "        keep = True\n",
    "        for sample in keep_list:\n",
    "            if get_IoU(bbox_string2bbox(sample.bbox), \n",
    "                       bbox_string2bbox(detection.bbox) ) > iou_threshold:\n",
    "                keep = False\n",
    "                break\n",
    "        keep_list.append(detection)\n",
    "        mask.append(keep)\n",
    "    return np.array(mask)\n",
    "\n",
    "def nms_filter_one_class(detections, iou_threshold):\n",
    "    # BBOX in format xywh\n",
    "    bbox_string2bbox = lambda line: np.array([float(x) for x in line.split(' ')])\n",
    "    keep_list = []\n",
    "    mask = []\n",
    "    for _, detection in detections.iterrows():\n",
    "        keep = True\n",
    "        for sample in keep_list:\n",
    "            if get_IoU(bbox_string2bbox(sample.bbox), \n",
    "                       bbox_string2bbox(detection.bbox) ) > iou_threshold and (sample.class_index == detection.class_index):\n",
    "                keep = False\n",
    "                break\n",
    "        keep_list.append(detection)\n",
    "        mask.append(keep)\n",
    "    return np.array(mask)\n",
    "\n",
    "def dumb_probability_filter(detections, probability_threshold):\n",
    "    mask = []\n",
    "    for _, detection in detections.iterrows():\n",
    "        keep = True\n",
    "        if detection.probability <= probability_threshold:\n",
    "            keep = False\n",
    "        mask.append(keep)\n",
    "    return np.array(mask)\n",
    "\n",
    "\n",
    "nms_filter_args = {'iou_threshold':0.7}\n",
    "nms_filter_one_class_args = {'iou_threshold':0.6}\n",
    "dumb_probability_filter_args = {'probability_threshold':0.4}\n",
    "\n",
    "filters = [\n",
    "    (nms_filter, nms_filter_args),\n",
    "    (nms_filter_one_class, nms_filter_one_class_args),\n",
    "    (dumb_probability_filter, dumb_probability_filter_args)\n",
    "]"
   ]
  },
  {
   "cell_type": "code",
   "execution_count": 53,
   "metadata": {},
   "outputs": [
    {
     "ename": "TypeError",
     "evalue": "'numpy.float64' object is not callable",
     "output_type": "error",
     "traceback": [
      "\u001b[0;31m---------------------------------------------------------------------------\u001b[0m",
      "\u001b[0;31mTypeError\u001b[0m                                 Traceback (most recent call last)",
      "Cell \u001b[0;32mIn[53], line 4\u001b[0m\n\u001b[1;32m      1\u001b[0m ann_loader \u001b[39m=\u001b[39m COCO_annotation_loader(\u001b[39m'\u001b[39m\u001b[39mdata/labels_train2007\u001b[39m\u001b[39m'\u001b[39m)\n\u001b[1;32m      2\u001b[0m det_loader \u001b[39m=\u001b[39m pandas_annotation_loader(\u001b[39m'\u001b[39m\u001b[39mdata/VOC2007/train2007/df_annotations\u001b[39m\u001b[39m'\u001b[39m, filters)\n\u001b[0;32m----> 4\u001b[0m ap, ap_class \u001b[39m=\u001b[39m count_metrics(det_loader, ann_loader)\n",
      "File \u001b[0;32m~/Documents/Projects/Diploma/My repos/Pseudo_label_Drounding_DINO/metrics.py:200\u001b[0m, in \u001b[0;36mcount_metrics\u001b[0;34m(det_loader, ann_loader)\u001b[0m\n\u001b[1;32m    196\u001b[0m \u001b[39mfor\u001b[39;00m image_name, labels \u001b[39min\u001b[39;00m ann_loader:\n\u001b[1;32m    197\u001b[0m \u001b[39m# Metrics\u001b[39;00m\n\u001b[1;32m    198\u001b[0m     \u001b[39m#get preds\u001b[39;00m\n\u001b[1;32m    199\u001b[0m     labels \u001b[39m=\u001b[39m torch\u001b[39m.\u001b[39mfrom_numpy(labels)\n\u001b[0;32m--> 200\u001b[0m     preds \u001b[39m=\u001b[39m torch\u001b[39m.\u001b[39mfrom_numpy(det_loader\u001b[39m.\u001b[39;49mget_annotation_by_name(image_name))\n\u001b[1;32m    202\u001b[0m     nl, npr \u001b[39m=\u001b[39m labels\u001b[39m.\u001b[39mshape[\u001b[39m0\u001b[39m], preds\u001b[39m.\u001b[39mshape[\u001b[39m0\u001b[39m]  \u001b[39m# number of labels, predictions\u001b[39;00m\n\u001b[1;32m    203\u001b[0m     correct \u001b[39m=\u001b[39m torch\u001b[39m.\u001b[39mzeros(npr, niou, dtype\u001b[39m=\u001b[39mtorch\u001b[39m.\u001b[39mbool)\n",
      "Cell \u001b[0;32mIn[26], line 45\u001b[0m, in \u001b[0;36mpandas_annotation_loader.get_annotation_by_name\u001b[0;34m(self, filename)\u001b[0m\n\u001b[1;32m     43\u001b[0m     \u001b[39mreturn\u001b[39;00m \u001b[39mNone\u001b[39;00m\n\u001b[1;32m     44\u001b[0m \u001b[39melse\u001b[39;00m:\n\u001b[0;32m---> 45\u001b[0m     \u001b[39mreturn\u001b[39;00m \u001b[39mself\u001b[39;49m\u001b[39m.\u001b[39;49m__get_from_dataframe(filename)\n",
      "Cell \u001b[0;32mIn[26], line 29\u001b[0m, in \u001b[0;36mpandas_annotation_loader.__get_from_dataframe\u001b[0;34m(self, filename)\u001b[0m\n\u001b[1;32m     27\u001b[0m \u001b[39m# BBOX in format xywh\u001b[39;00m\n\u001b[1;32m     28\u001b[0m bbox_string2bbox \u001b[39m=\u001b[39m \u001b[39mlambda\u001b[39;00m line: np\u001b[39m.\u001b[39marray([\u001b[39mfloat\u001b[39m(x) \u001b[39mfor\u001b[39;00m x \u001b[39min\u001b[39;00m line[\u001b[39m0\u001b[39m]\u001b[39m.\u001b[39msplit(\u001b[39m'\u001b[39m\u001b[39m \u001b[39m\u001b[39m'\u001b[39m)])\n\u001b[0;32m---> 29\u001b[0m bboxes \u001b[39m=\u001b[39m np\u001b[39m.\u001b[39marray(\u001b[39mlist\u001b[39m(\u001b[39mmap\u001b[39;49m(bbox_string2bbox, data\u001b[39m.\u001b[39;49mloc[:,[\u001b[39m'\u001b[39;49m\u001b[39mbbox\u001b[39;49m\u001b[39m'\u001b[39;49m]]\u001b[39m.\u001b[39;49mto_numpy())))\n\u001b[1;32m     30\u001b[0m \u001b[39mif\u001b[39;00m bboxes\u001b[39m.\u001b[39mshape[\u001b[39m0\u001b[39m] \u001b[39m>\u001b[39m \u001b[39m0\u001b[39m:\n\u001b[1;32m     31\u001b[0m     \u001b[39mreturn\u001b[39;00m np\u001b[39m.\u001b[39mconcatenate((bboxes, confidences, class_indexes), axis\u001b[39m=\u001b[39m\u001b[39m1\u001b[39m)\n",
      "\u001b[0;31mTypeError\u001b[0m: 'numpy.float64' object is not callable"
     ]
    }
   ],
   "source": [
    "ann_loader = COCO_annotation_loader('data/labels_train2007')\n",
    "det_loader = pandas_annotation_loader('data/VOC2007/train2007/df_annotations', filters)\n",
    "\n",
    "ap, ap_class = count_metrics(det_loader, ann_loader)"
   ]
  },
  {
   "cell_type": "code",
   "execution_count": 49,
   "metadata": {},
   "outputs": [],
   "source": [
    "data = AnnotationDF(CLASSES)\n",
    "data.load_annotation('data/VOC2007/train2007/df_annotations')"
   ]
  },
  {
   "cell_type": "code",
   "execution_count": 52,
   "metadata": {},
   "outputs": [
    {
     "data": {
      "text/html": [
       "<div>\n",
       "<style scoped>\n",
       "    .dataframe tbody tr th:only-of-type {\n",
       "        vertical-align: middle;\n",
       "    }\n",
       "\n",
       "    .dataframe tbody tr th {\n",
       "        vertical-align: top;\n",
       "    }\n",
       "\n",
       "    .dataframe thead th {\n",
       "        text-align: right;\n",
       "    }\n",
       "</style>\n",
       "<table border=\"1\" class=\"dataframe\">\n",
       "  <thead>\n",
       "    <tr style=\"text-align: right;\">\n",
       "      <th></th>\n",
       "      <th>image_name</th>\n",
       "      <th>class</th>\n",
       "      <th>class_index</th>\n",
       "      <th>num_boxes</th>\n",
       "      <th>probability</th>\n",
       "      <th>bbox</th>\n",
       "      <th>box_area</th>\n",
       "    </tr>\n",
       "  </thead>\n",
       "  <tbody>\n",
       "    <tr>\n",
       "      <th>252</th>\n",
       "      <td>000026</td>\n",
       "      <td>aeroplane</td>\n",
       "      <td>0</td>\n",
       "      <td>24</td>\n",
       "      <td>0.397380</td>\n",
       "      <td>0.42145922780036926 0.5076552629470825 0.49464...</td>\n",
       "      <td>0.135783</td>\n",
       "    </tr>\n",
       "    <tr>\n",
       "      <th>253</th>\n",
       "      <td>000026</td>\n",
       "      <td>bicycle</td>\n",
       "      <td>1</td>\n",
       "      <td>24</td>\n",
       "      <td>0.397827</td>\n",
       "      <td>0.42110782861709595 0.5064442157745361 0.49437...</td>\n",
       "      <td>0.134620</td>\n",
       "    </tr>\n",
       "    <tr>\n",
       "      <th>254</th>\n",
       "      <td>000026</td>\n",
       "      <td>bird</td>\n",
       "      <td>2</td>\n",
       "      <td>24</td>\n",
       "      <td>0.303866</td>\n",
       "      <td>0.4214317500591278 0.506939172744751 0.4954860...</td>\n",
       "      <td>0.136462</td>\n",
       "    </tr>\n",
       "    <tr>\n",
       "      <th>255</th>\n",
       "      <td>000026</td>\n",
       "      <td>boat</td>\n",
       "      <td>3</td>\n",
       "      <td>24</td>\n",
       "      <td>0.236970</td>\n",
       "      <td>0.421335369348526 0.5069716572761536 0.4947617...</td>\n",
       "      <td>0.136300</td>\n",
       "    </tr>\n",
       "    <tr>\n",
       "      <th>256</th>\n",
       "      <td>000026</td>\n",
       "      <td>bottle</td>\n",
       "      <td>4</td>\n",
       "      <td>24</td>\n",
       "      <td>0.146020</td>\n",
       "      <td>0.420897901058197 0.5076733231544495 0.4940853...</td>\n",
       "      <td>0.135332</td>\n",
       "    </tr>\n",
       "    <tr>\n",
       "      <th>257</th>\n",
       "      <td>000026</td>\n",
       "      <td>bus</td>\n",
       "      <td>5</td>\n",
       "      <td>24</td>\n",
       "      <td>0.430206</td>\n",
       "      <td>0.42121586203575134 0.506991982460022 0.494358...</td>\n",
       "      <td>0.134922</td>\n",
       "    </tr>\n",
       "    <tr>\n",
       "      <th>258</th>\n",
       "      <td>000026</td>\n",
       "      <td>car</td>\n",
       "      <td>6</td>\n",
       "      <td>24</td>\n",
       "      <td>0.908009</td>\n",
       "      <td>0.4213421940803528 0.5073727965354919 0.495557...</td>\n",
       "      <td>0.136391</td>\n",
       "    </tr>\n",
       "    <tr>\n",
       "      <th>259</th>\n",
       "      <td>000026</td>\n",
       "      <td>cat</td>\n",
       "      <td>7</td>\n",
       "      <td>24</td>\n",
       "      <td>0.228420</td>\n",
       "      <td>0.42106500267982483 0.5076236128807068 0.49438...</td>\n",
       "      <td>0.135584</td>\n",
       "    </tr>\n",
       "    <tr>\n",
       "      <th>260</th>\n",
       "      <td>000026</td>\n",
       "      <td>chair</td>\n",
       "      <td>8</td>\n",
       "      <td>24</td>\n",
       "      <td>0.447504</td>\n",
       "      <td>0.42123666405677795 0.5068941712379456 0.49416...</td>\n",
       "      <td>0.134190</td>\n",
       "    </tr>\n",
       "    <tr>\n",
       "      <th>261</th>\n",
       "      <td>000026</td>\n",
       "      <td>chair</td>\n",
       "      <td>8</td>\n",
       "      <td>24</td>\n",
       "      <td>0.148393</td>\n",
       "      <td>0.433524489402771 0.42933180928230286 0.061866...</td>\n",
       "      <td>0.003381</td>\n",
       "    </tr>\n",
       "    <tr>\n",
       "      <th>262</th>\n",
       "      <td>000026</td>\n",
       "      <td>chair</td>\n",
       "      <td>8</td>\n",
       "      <td>24</td>\n",
       "      <td>0.126083</td>\n",
       "      <td>0.22283507883548737 0.42553597688674927 0.0791...</td>\n",
       "      <td>0.003861</td>\n",
       "    </tr>\n",
       "    <tr>\n",
       "      <th>263</th>\n",
       "      <td>000026</td>\n",
       "      <td>chair</td>\n",
       "      <td>8</td>\n",
       "      <td>24</td>\n",
       "      <td>0.130477</td>\n",
       "      <td>0.43471020460128784 0.44095656275749207 0.0538...</td>\n",
       "      <td>0.001665</td>\n",
       "    </tr>\n",
       "    <tr>\n",
       "      <th>264</th>\n",
       "      <td>000026</td>\n",
       "      <td>cow</td>\n",
       "      <td>9</td>\n",
       "      <td>24</td>\n",
       "      <td>0.314222</td>\n",
       "      <td>0.42147284746170044 0.5077833533287048 0.49474...</td>\n",
       "      <td>0.135120</td>\n",
       "    </tr>\n",
       "    <tr>\n",
       "      <th>265</th>\n",
       "      <td>000026</td>\n",
       "      <td>diningtable</td>\n",
       "      <td>10</td>\n",
       "      <td>24</td>\n",
       "      <td>0.523515</td>\n",
       "      <td>0.42135027050971985 0.5072835683822632 0.49487...</td>\n",
       "      <td>0.136247</td>\n",
       "    </tr>\n",
       "    <tr>\n",
       "      <th>266</th>\n",
       "      <td>000026</td>\n",
       "      <td>dog</td>\n",
       "      <td>11</td>\n",
       "      <td>24</td>\n",
       "      <td>0.262962</td>\n",
       "      <td>0.4210285544395447 0.5070998668670654 0.494269...</td>\n",
       "      <td>0.134914</td>\n",
       "    </tr>\n",
       "    <tr>\n",
       "      <th>267</th>\n",
       "      <td>000026</td>\n",
       "      <td>horse</td>\n",
       "      <td>12</td>\n",
       "      <td>24</td>\n",
       "      <td>0.386815</td>\n",
       "      <td>0.4210064709186554 0.5077273845672607 0.493898...</td>\n",
       "      <td>0.134564</td>\n",
       "    </tr>\n",
       "    <tr>\n",
       "      <th>268</th>\n",
       "      <td>000026</td>\n",
       "      <td>motorbike</td>\n",
       "      <td>13</td>\n",
       "      <td>24</td>\n",
       "      <td>0.558075</td>\n",
       "      <td>0.4209648072719574 0.5067766308784485 0.497545...</td>\n",
       "      <td>0.137443</td>\n",
       "    </tr>\n",
       "    <tr>\n",
       "      <th>269</th>\n",
       "      <td>000026</td>\n",
       "      <td>person</td>\n",
       "      <td>14</td>\n",
       "      <td>24</td>\n",
       "      <td>0.282687</td>\n",
       "      <td>0.42113012075424194 0.5066964626312256 0.49355...</td>\n",
       "      <td>0.134785</td>\n",
       "    </tr>\n",
       "    <tr>\n",
       "      <th>270</th>\n",
       "      <td>000026</td>\n",
       "      <td>sheep</td>\n",
       "      <td>16</td>\n",
       "      <td>24</td>\n",
       "      <td>0.423743</td>\n",
       "      <td>0.4212671220302582 0.5075997114181519 0.494351...</td>\n",
       "      <td>0.134749</td>\n",
       "    </tr>\n",
       "    <tr>\n",
       "      <th>271</th>\n",
       "      <td>000026</td>\n",
       "      <td>sofa</td>\n",
       "      <td>17</td>\n",
       "      <td>24</td>\n",
       "      <td>0.548704</td>\n",
       "      <td>0.42135336995124817 0.508072018623352 0.494450...</td>\n",
       "      <td>0.135232</td>\n",
       "    </tr>\n",
       "    <tr>\n",
       "      <th>272</th>\n",
       "      <td>000026</td>\n",
       "      <td>train</td>\n",
       "      <td>18</td>\n",
       "      <td>24</td>\n",
       "      <td>0.520141</td>\n",
       "      <td>0.4214123785495758 0.5072428584098816 0.494655...</td>\n",
       "      <td>0.135707</td>\n",
       "    </tr>\n",
       "    <tr>\n",
       "      <th>273</th>\n",
       "      <td>000026</td>\n",
       "      <td>tvmonitor</td>\n",
       "      <td>19</td>\n",
       "      <td>24</td>\n",
       "      <td>0.386170</td>\n",
       "      <td>0.4215633273124695 0.5074201226234436 0.497459...</td>\n",
       "      <td>0.138644</td>\n",
       "    </tr>\n",
       "  </tbody>\n",
       "</table>\n",
       "</div>"
      ],
      "text/plain": [
       "    image_name        class  class_index  num_boxes  probability  \\\n",
       "252     000026    aeroplane            0         24     0.397380   \n",
       "253     000026      bicycle            1         24     0.397827   \n",
       "254     000026         bird            2         24     0.303866   \n",
       "255     000026         boat            3         24     0.236970   \n",
       "256     000026       bottle            4         24     0.146020   \n",
       "257     000026          bus            5         24     0.430206   \n",
       "258     000026          car            6         24     0.908009   \n",
       "259     000026          cat            7         24     0.228420   \n",
       "260     000026        chair            8         24     0.447504   \n",
       "261     000026        chair            8         24     0.148393   \n",
       "262     000026        chair            8         24     0.126083   \n",
       "263     000026        chair            8         24     0.130477   \n",
       "264     000026          cow            9         24     0.314222   \n",
       "265     000026  diningtable           10         24     0.523515   \n",
       "266     000026          dog           11         24     0.262962   \n",
       "267     000026        horse           12         24     0.386815   \n",
       "268     000026    motorbike           13         24     0.558075   \n",
       "269     000026       person           14         24     0.282687   \n",
       "270     000026        sheep           16         24     0.423743   \n",
       "271     000026         sofa           17         24     0.548704   \n",
       "272     000026        train           18         24     0.520141   \n",
       "273     000026    tvmonitor           19         24     0.386170   \n",
       "\n",
       "                                                  bbox  box_area  \n",
       "252  0.42145922780036926 0.5076552629470825 0.49464...  0.135783  \n",
       "253  0.42110782861709595 0.5064442157745361 0.49437...  0.134620  \n",
       "254  0.4214317500591278 0.506939172744751 0.4954860...  0.136462  \n",
       "255  0.421335369348526 0.5069716572761536 0.4947617...  0.136300  \n",
       "256  0.420897901058197 0.5076733231544495 0.4940853...  0.135332  \n",
       "257  0.42121586203575134 0.506991982460022 0.494358...  0.134922  \n",
       "258  0.4213421940803528 0.5073727965354919 0.495557...  0.136391  \n",
       "259  0.42106500267982483 0.5076236128807068 0.49438...  0.135584  \n",
       "260  0.42123666405677795 0.5068941712379456 0.49416...  0.134190  \n",
       "261  0.433524489402771 0.42933180928230286 0.061866...  0.003381  \n",
       "262  0.22283507883548737 0.42553597688674927 0.0791...  0.003861  \n",
       "263  0.43471020460128784 0.44095656275749207 0.0538...  0.001665  \n",
       "264  0.42147284746170044 0.5077833533287048 0.49474...  0.135120  \n",
       "265  0.42135027050971985 0.5072835683822632 0.49487...  0.136247  \n",
       "266  0.4210285544395447 0.5070998668670654 0.494269...  0.134914  \n",
       "267  0.4210064709186554 0.5077273845672607 0.493898...  0.134564  \n",
       "268  0.4209648072719574 0.5067766308784485 0.497545...  0.137443  \n",
       "269  0.42113012075424194 0.5066964626312256 0.49355...  0.134785  \n",
       "270  0.4212671220302582 0.5075997114181519 0.494351...  0.134749  \n",
       "271  0.42135336995124817 0.508072018623352 0.494450...  0.135232  \n",
       "272  0.4214123785495758 0.5072428584098816 0.494655...  0.135707  \n",
       "273  0.4215633273124695 0.5074201226234436 0.497459...  0.138644  "
      ]
     },
     "execution_count": 52,
     "metadata": {},
     "output_type": "execute_result"
    }
   ],
   "source": [
    "data.df[data.df.image_name == '000026']"
   ]
  },
  {
   "cell_type": "code",
   "execution_count": 34,
   "metadata": {},
   "outputs": [
    {
     "name": "stdout",
     "output_type": "stream",
     "text": [
      "0.7723831290606439 0.6606398756647319\n"
     ]
    }
   ],
   "source": [
    "map50, map = ap[:, 0].mean(), ap.mean(1).mean()\n",
    "print(map50, map)"
   ]
  },
  {
   "cell_type": "code",
   "execution_count": 42,
   "metadata": {},
   "outputs": [
    {
     "name": "stdout",
     "output_type": "stream",
     "text": [
      "0.7723831290606439 0.6606398756647319\n"
     ]
    }
   ],
   "source": [
    "map50, map = ap[:, 0].mean(), ap.mean(1).mean()\n",
    "print(map50, map)"
   ]
  },
  {
   "cell_type": "code",
   "execution_count": 45,
   "metadata": {},
   "outputs": [
    {
     "name": "stdout",
     "output_type": "stream",
     "text": [
      "aeroplane : 0.9390099056133667\n",
      "bicycle : 0.7824581813167448\n",
      "bird : 0.89878016333406\n",
      "boat : 0.7724062272923456\n",
      "bottle : 0.6335198812422658\n",
      "bus : 0.8405905760597341\n",
      "car : 0.836987356245467\n",
      "cat : 0.8713239033883763\n",
      "chair : 0.5010853885568489\n",
      "cow : 0.8462645531731038\n",
      "diningtable : 0.5867443275606313\n",
      "dog : 0.83988269530333\n",
      "horse : 0.9172434483094108\n",
      "motorbike : 0.7526368790663791\n",
      "person : 0.8489077255604253\n",
      "pottedplant : 0.6862477413501388\n",
      "sheep : 0.7140282672867289\n",
      "sofa : 0.5433652536596714\n",
      "train : 0.853910213685901\n",
      "tvmonitor : 0.7822698932079473\n"
     ]
    }
   ],
   "source": [
    "for name, ap_cl in zip (CLASSES, ap[:,0]):\n",
    "    print(f'{name} : {ap_cl}')"
   ]
  },
  {
   "cell_type": "code",
   "execution_count": 15,
   "metadata": {},
   "outputs": [
    {
     "name": "stdout",
     "output_type": "stream",
     "text": [
      "aeroplane : 0.21254799343939446\n",
      "bicycle : 0.19671853887388674\n",
      "bird : 0.19527639964760754\n",
      "boat : 0.087011846423598\n",
      "bottle : 0.09471990778151669\n",
      "bus : 0.28263913187403433\n",
      "car : 0.17212190791643567\n",
      "cat : 0.2794418293701749\n",
      "chair : 0.06071717194393426\n",
      "cow : 0.15184847838808918\n",
      "diningtable : 0.16099513885638356\n",
      "dog : 0.26943889903029705\n",
      "horse : 0.26480642772761154\n",
      "motorbike : 0.14732393725706605\n",
      "person : 0.152191872892028\n",
      "pottedplant : 0.025829802010285303\n",
      "sheep : 0.1073687360217109\n",
      "sofa : 0.20218703670607296\n",
      "train : 0.19873540567009604\n",
      "tvmonitor : 0.09773978572894092\n"
     ]
    }
   ],
   "source": [
    "for name, ap_cl in zip (CLASSES, ap[:,-1]):\n",
    "    print(f'{name} : {ap_cl}')"
   ]
  },
  {
   "cell_type": "code",
   "execution_count": 95,
   "metadata": {},
   "outputs": [
    {
     "data": {
      "text/plain": [
       "tensor([[0., 0., 0., 0., 0., 2.],\n",
       "        [0., 0., 0., 0., 0., 6.],\n",
       "        [0., 0., 0., 0., 0., 0.]])"
      ]
     },
     "execution_count": 95,
     "metadata": {},
     "output_type": "execute_result"
    }
   ],
   "source": [
    "N = 3\n",
    "preds = torch.zeros((N, 6))\n",
    "preds[:,5] = torch.randint(7, (N,))\n",
    "preds"
   ]
  },
  {
   "cell_type": "code",
   "execution_count": 96,
   "metadata": {},
   "outputs": [
    {
     "data": {
      "text/plain": [
       "tensor([[5., 0., 0., 0., 0.],\n",
       "        [5., 0., 0., 0., 0.]])"
      ]
     },
     "execution_count": 96,
     "metadata": {},
     "output_type": "execute_result"
    }
   ],
   "source": [
    "M = 2\n",
    "labels = torch.zeros((M, 5))\n",
    "labels[:,0] = torch.randint(7, (M,))\n",
    "labels"
   ]
  },
  {
   "cell_type": "code",
   "execution_count": 98,
   "metadata": {},
   "outputs": [
    {
     "name": "stdout",
     "output_type": "stream",
     "text": [
      "torch.Size([4, 1, 2])\n"
     ]
    }
   ],
   "source": [
    "a = torch.arange(16).reshape(-1,4).unsqueeze(1).chunk(2,2)[0]\n",
    "print(a.shape)\n",
    "# a"
   ]
  },
  {
   "cell_type": "code",
   "execution_count": 99,
   "metadata": {},
   "outputs": [
    {
     "name": "stdout",
     "output_type": "stream",
     "text": [
      "torch.Size([1, 5, 2])\n"
     ]
    }
   ],
   "source": [
    "b = torch.arange(20).reshape(-1,4).unsqueeze(0).chunk(2,2)[1]\n",
    "print(b.shape)\n",
    "# b"
   ]
  },
  {
   "cell_type": "code",
   "execution_count": 102,
   "metadata": {},
   "outputs": [
    {
     "data": {
      "text/plain": [
       "tensor([[ True,  True,  True,  True],\n",
       "        [False, False, False, False],\n",
       "        [ True,  True,  True,  True]])"
      ]
     },
     "execution_count": 102,
     "metadata": {},
     "output_type": "execute_result"
    }
   ],
   "source": [
    "torch.Tensor([[1],[2],[1]]) == torch.Tensor([[1,1,1,1]])"
   ]
  },
  {
   "cell_type": "code",
   "execution_count": 93,
   "metadata": {},
   "outputs": [
    {
     "data": {
      "text/plain": [
       "(tensor([0]), tensor([1]))"
      ]
     },
     "execution_count": 93,
     "metadata": {},
     "output_type": "execute_result"
    }
   ],
   "source": [
    "a = torch.Tensor([[1,2],\n",
    "                  [3,4]])\n",
    "b = torch.Tensor([[3,3],\n",
    "                  [4,4]])\n",
    "torch.where(a==2)"
   ]
  },
  {
   "cell_type": "code",
   "execution_count": 108,
   "metadata": {},
   "outputs": [
    {
     "data": {
      "text/plain": [
       "tensor([[1., 4.],\n",
       "        [2., 5.],\n",
       "        [3., 6.]])"
      ]
     },
     "execution_count": 108,
     "metadata": {},
     "output_type": "execute_result"
    }
   ],
   "source": [
    "torch.stack((torch.Tensor([1,2,3]), torch.Tensor([4,5,6])  ), 1)"
   ]
  },
  {
   "cell_type": "code",
   "execution_count": 113,
   "metadata": {},
   "outputs": [
    {
     "data": {
      "text/plain": [
       "tensor([1., 2., 3., 1., 2., 3.])"
      ]
     },
     "execution_count": 113,
     "metadata": {},
     "output_type": "execute_result"
    }
   ],
   "source": [
    "torch.cat((torch.Tensor([1,2,3]), torch.Tensor([1,2,3])),0)"
   ]
  }
 ],
 "metadata": {
  "kernelspec": {
   "display_name": ".venv",
   "language": "python",
   "name": "python3"
  },
  "language_info": {
   "codemirror_mode": {
    "name": "ipython",
    "version": 3
   },
   "file_extension": ".py",
   "mimetype": "text/x-python",
   "name": "python",
   "nbconvert_exporter": "python",
   "pygments_lexer": "ipython3",
   "version": "3.10.6"
  },
  "orig_nbformat": 4
 },
 "nbformat": 4,
 "nbformat_minor": 2
}
